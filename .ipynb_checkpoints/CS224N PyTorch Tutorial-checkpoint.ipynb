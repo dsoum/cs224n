{
 "cells": [
  {
   "cell_type": "markdown",
   "id": "perceived-donor",
   "metadata": {},
   "source": [
    "# CS224N: PyTorch Tutorial (Winter '21)\n",
    "\n",
    "### Author: Dilara Soylu\n",
    "\n",
    "In this notebook, we will have a basic introduction to `PyTorch` and work on a demo network solving X task [TODO write the task here]. Following resources have been used in preparation of this notebook:\n",
    "* Matt's tutorial\n",
    "* Official PyTorch tutorial\n",
    "* GAN Class tutorial [TODO properly cite]"
   ]
  },
  {
   "cell_type": "code",
   "execution_count": 1,
   "id": "hindu-wales",
   "metadata": {},
   "outputs": [],
   "source": [
    "import torch"
   ]
  }
 ],
 "metadata": {
  "kernelspec": {
   "display_name": "Python 3 (ipykernel)",
   "language": "python",
   "name": "python3"
  },
  "language_info": {
   "codemirror_mode": {
    "name": "ipython",
    "version": 3
   },
   "file_extension": ".py",
   "mimetype": "text/x-python",
   "name": "python",
   "nbconvert_exporter": "python",
   "pygments_lexer": "ipython3",
   "version": "3.10.4"
  }
 },
 "nbformat": 4,
 "nbformat_minor": 5
}
